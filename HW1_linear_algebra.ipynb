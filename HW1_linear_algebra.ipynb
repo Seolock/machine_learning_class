{
  "nbformat": 4,
  "nbformat_minor": 0,
  "metadata": {
    "colab": {
      "provenance": []
    },
    "kernelspec": {
      "name": "python3",
      "display_name": "Python 3"
    },
    "language_info": {
      "name": "python"
    }
  },
  "cells": [
    {
      "cell_type": "code",
      "source": [
        "#Mount your drive\n",
        "from google.colab import drive\n",
        "drive.mount('/content/drive')"
      ],
      "metadata": {
        "id": "3gYVgaIwEVpF",
        "colab": {
          "base_uri": "https://localhost:8080/"
        },
        "outputId": "0928bb17-a976-4902-c86b-c8db58fdd545"
      },
      "execution_count": null,
      "outputs": [
        {
          "output_type": "stream",
          "name": "stdout",
          "text": [
            "Mounted at /content/drive\n"
          ]
        }
      ]
    },
    {
      "cell_type": "markdown",
      "source": [
        "# Code\n",
        "\n",
        "Download and load the MNIST dataset using the provided function load_data(), and:\n",
        "1. Calculate pixelwise mean, variance, eigenvectors and eigenvalues.\n",
        "2. Plot the mean and the first 10 eigenvector images.\n",
        "3. Plot the first 100 eigenvalues."
      ],
      "metadata": {
        "id": "BAr5_EFW_4Rf"
      }
    },
    {
      "cell_type": "code",
      "execution_count": null,
      "metadata": {
        "id": "3ovpz1JO_k9f"
      },
      "outputs": [],
      "source": [
        "import six.moves.cPickle as pickle\n",
        "import gzip\n",
        "import os\n",
        "import numpy as np\n",
        "from PIL import Image\n",
        "from numpy import linalg as LA\n",
        "import matplotlib.pyplot as plt\n",
        "import urllib.request"
      ]
    },
    {
      "cell_type": "code",
      "source": [
        "def load_data(dataset):\n",
        "    ''' Loads the dataset\n",
        "\n",
        "    :type dataset: string\n",
        "    :param dataset: the path to the dataset (here MNIST)\n",
        "\n",
        "    copied from http://deeplearning.net/ and revised by hchoi\n",
        "    '''\n",
        "\n",
        "    # Download the MNIST dataset if it is not present\n",
        "    if not os.path.isfile(dataset):\n",
        "        origin = (\n",
        "            'http://www.iro.umontreal.ca/~lisa/deep/data/mnist/mnist.pkl.gz'\n",
        "        )\n",
        "        print('Downloading data from %s' % origin)\n",
        "        urllib.request.urlretrieve(origin, dataset)\n",
        "\n",
        "    print('Loading data...')\n",
        "\n",
        "    # Load the dataset\n",
        "    with gzip.open(dataset, 'rb') as f:\n",
        "        try:\n",
        "            train_set, valid_set, test_set = pickle.load(f, encoding='latin1')\n",
        "        except:\n",
        "            train_set, valid_set, test_set = pickle.load(f)\n",
        "    # train_set, valid_set, test_set format: tuple(input, target)\n",
        "    # input is a numpy.ndarray of 2 dimensions (a matrix)\n",
        "    # where each row corresponds to an example. target is a\n",
        "    # numpy.ndarray of 1 dimension (vector) that has the same length as\n",
        "    # the number of rows in the input. It should give the target\n",
        "    # to the example with the same index in the input.\n",
        "    print('... data has been loaded!')\n",
        "    return train_set, valid_set, test_set"
      ],
      "metadata": {
        "id": "yXYfnDf-BK7x"
      },
      "execution_count": null,
      "outputs": []
    },
    {
      "cell_type": "code",
      "source": [
        "#Load the data into train, validation and test sets\n",
        "train_set, val_set, test_set = load_data('mnist.pkl.gz')\n",
        "\n",
        "#Separate each set into image vector (_x) and label (_y)\n",
        "train_x, train_y = train_set\n",
        "val_x, val_y = val_set\n",
        "test_x, test_y = test_set"
      ],
      "metadata": {
        "colab": {
          "base_uri": "https://localhost:8080/"
        },
        "id": "3zV0inJXBQjx",
        "outputId": "05f7c1e1-5182-4b08-b1c1-882f588ecb00"
      },
      "execution_count": null,
      "outputs": [
        {
          "output_type": "stream",
          "name": "stdout",
          "text": [
            "Downloading data from http://www.iro.umontreal.ca/~lisa/deep/data/mnist/mnist.pkl.gz\n",
            "Loading data...\n",
            "... data has been loaded!\n"
          ]
        }
      ]
    },
    {
      "cell_type": "code",
      "source": [
        "#Check that the shapes (dimensions) of the labels make sense.\n",
        "print(train_x.shape)\n",
        "print(train_y.shape)\n",
        "#Answer these questions to yourself: what do these dimensions mean? How many data samples are there?"
      ],
      "metadata": {
        "colab": {
          "base_uri": "https://localhost:8080/"
        },
        "id": "D2TxdYvtGLVo",
        "outputId": "f2a664c6-76d1-4ab0-eb39-94d4ad85b4ff"
      },
      "execution_count": null,
      "outputs": [
        {
          "output_type": "stream",
          "name": "stdout",
          "text": [
            "(50000, 784)\n",
            "(50000,)\n"
          ]
        }
      ]
    },
    {
      "cell_type": "markdown",
      "source": [
        "## Mean, variance, eigenvectors and eigenvalues."
      ],
      "metadata": {
        "id": "4z6SQsutIffi"
      }
    },
    {
      "cell_type": "code",
      "source": [
        "#Compute the pixelwise mean of the images from train_x. Complete the ... space with your code\n",
        "mean_img = train_x.mean(axis=0)\n",
        "#Check the shape. It should be (784,)\n",
        "print(mean_img.shape)"
      ],
      "metadata": {
        "colab": {
          "base_uri": "https://localhost:8080/"
        },
        "id": "IIzkTmYHITgf",
        "outputId": "7d1c25ee-eabb-40a0-b2e3-5802af3efaf1"
      },
      "execution_count": null,
      "outputs": [
        {
          "output_type": "stream",
          "name": "stdout",
          "text": [
            "(784,)\n"
          ]
        }
      ]
    },
    {
      "cell_type": "code",
      "source": [
        "#Compute the pixelwise variance of the images from train_x. Complete the ... space with your code\n",
        "var_img = np.var(train_x, axis=0)\n",
        "#Check the shape. It should be (784,)\n",
        "print(var_img.shape)"
      ],
      "metadata": {
        "id": "v0pgbOK7Jiwo",
        "colab": {
          "base_uri": "https://localhost:8080/"
        },
        "outputId": "387aa910-9c25-4982-f508-af4db937870b"
      },
      "execution_count": null,
      "outputs": [
        {
          "output_type": "stream",
          "name": "stdout",
          "text": [
            "(784,)\n"
          ]
        }
      ]
    },
    {
      "cell_type": "code",
      "source": [
        "#Compute the eigenvectors and eigenvalues, complete ... with your code\n",
        "#first, compute the covariance matrix of train_x (careful with the dimensions)\n",
        "cov = np.cov(train_x,rowvar=False)\n",
        "#Check the shape, it should be (784, 784)\n",
        "print(cov.shape)\n",
        "#Get the eigenvalues and eigenvectors\n",
        "eigval, eigvec = np.linalg.eig(cov)\n",
        "#Print their shapes\n",
        "print(eigval.shape,eigvec.shape)"
      ],
      "metadata": {
        "id": "y74zPoIWJ3Jv",
        "colab": {
          "base_uri": "https://localhost:8080/"
        },
        "outputId": "6fa96753-2ff3-45e4-c083-a84cda9aae19"
      },
      "execution_count": null,
      "outputs": [
        {
          "output_type": "stream",
          "name": "stdout",
          "text": [
            "(784, 784)\n",
            "(784,) (784, 784)\n"
          ]
        }
      ]
    },
    {
      "cell_type": "markdown",
      "source": [
        "## Print the mean and the first 10 eigenvector images."
      ],
      "metadata": {
        "id": "pfaEP0MKLs-2"
      }
    },
    {
      "cell_type": "code",
      "source": [
        "#example with variance\n",
        "plt.figure()\n",
        "fig = plt.imshow(np.asarray(var_img).reshape(28,28),origin = 'upper')\n",
        "fig.set_cmap('gray_r')\n",
        "fig.axes.get_xaxis().set_visible(False)\n",
        "fig.axes.get_yaxis().set_visible(False)\n",
        "plt.show()\n",
        "plt.close()\n",
        "\n",
        "#do the same with the mean\n",
        "plt.figure()\n",
        "fig = plt.imshow(np.asarray(mean_img).reshape(28,28),origin = 'upper')\n",
        "fig.set_cmap('gray_r')\n",
        "fig.axes.get_xaxis().set_visible(False)\n",
        "fig.axes.get_yaxis().set_visible(False)\n",
        "plt.show()\n",
        "plt.close()\n",
        "\n",
        "#and the 10 eigenvectors\n",
        "for i in range(10): #select the first 10 eigenvectors. complete the ...\n",
        "  plt.figure()\n",
        "  fig = plt.imshow(np.asarray(eigvec.T[i]).reshape(28,28),origin = 'upper')\n",
        "  fig.set_cmap('gray_r')\n",
        "  fig.axes.get_xaxis().set_visible(False)\n",
        "  fig.axes.get_yaxis().set_visible(False)\n",
        "  plt.show()\n",
        "  plt.close()"
      ],
      "metadata": {
        "id": "oTfBAcLmLn8J",
        "colab": {
          "base_uri": "https://localhost:8080/",
          "height": 1000
        },
        "outputId": "71e50821-621d-46a2-cac3-7381d333f7d7"
      },
      "execution_count": null,
      "outputs": [
        {
          "output_type": "display_data",
          "data": {
            "text/plain": [
              "<Figure size 640x480 with 1 Axes>"
            ],
            "image/png": "[encoded data removed]"
          },
          "metadata": {}
        },
        {
          "output_type": "display_data",
          "data": {
            "text/plain": [
              "<Figure size 640x480 with 1 Axes>"
            ],
            "image/png": "[encoded data removed]"
          },
          "metadata": {}
        },
        {
          "output_type": "display_data",
          "data": {
            "text/plain": [
              "<Figure size 640x480 with 1 Axes>"
            ],
            "image/png": "[encoded data removed]"
          },
          "metadata": {}
        },
        {
          "output_type": "display_data",
          "data": {
            "text/plain": [
              "<Figure size 640x480 with 1 Axes>"
            ],
            "image/png": "[encoded data removed]"
          },
          "metadata": {}
        },
        {
          "output_type": "display_data",
          "data": {
            "text/plain": [
              "<Figure size 640x480 with 1 Axes>"
            ],
            "image/png": "[encoded data removed]"
          },
          "metadata": {}
        },
        {
          "output_type": "display_data",
          "data": {
            "text/plain": [
              "<Figure size 640x480 with 1 Axes>"
            ],
            "image/png": "[encoded data removed]"
          },
          "metadata": {}
        },
        {
          "output_type": "display_data",
          "data": {
            "text/plain": [
              "<Figure size 640x480 with 1 Axes>"
            ],
            "image/png": "[encoded data removed]"
          },
          "metadata": {}
        },
        {
          "output_type": "display_data",
          "data": {
            "text/plain": [
              "<Figure size 640x480 with 1 Axes>"
            ],
            "image/png": "[encoded data removed]"
          },
          "metadata": {}
        },
        {
          "output_type": "display_data",
          "data": {
            "text/plain": [
              "<Figure size 640x480 with 1 Axes>"
            ],
            "image/png": "[encoded data removed]"
          },
          "metadata": {}
        },
        {
          "output_type": "display_data",
          "data": {
            "text/plain": [
              "<Figure size 640x480 with 1 Axes>"
            ],
            "image/png": "[encoded data removed]"
          },
          "metadata": {}
        },
        {
          "output_type": "display_data",
          "data": {
            "text/plain": [
              "<Figure size 640x480 with 1 Axes>"
            ],
            "image/png": "[encoded data removed]"
          },
          "metadata": {}
        },
        {
          "output_type": "display_data",
          "data": {
            "text/plain": [
              "<Figure size 640x480 with 1 Axes>"
            ],
            "image/png": "[encoded data removed]"
          },
          "metadata": {}
        }
      ]
    },
    {
      "cell_type": "markdown",
      "source": [
        "## Plot the first 100 eigenvalues"
      ],
      "metadata": {
        "id": "fRvuu_ZuPPpb"
      }
    },
    {
      "cell_type": "code",
      "source": [
        "#complete the ...\n",
        "plt.figure()\n",
        "fig = plt.plot(np.asarray(eigval[range(100)]))\n",
        "plt.xlabel('Index')\n",
        "plt.ylabel('Eigenvalues')\n",
        "plt.show()\n",
        "plt.close()"
      ],
      "metadata": {
        "id": "eBLbQ8zwN6MZ",
        "colab": {
          "base_uri": "https://localhost:8080/",
          "height": 449
        },
        "outputId": "c331b0e2-1edd-4920-c663-c86087fe6250"
      },
      "execution_count": null,
      "outputs": [
        {
          "output_type": "display_data",
          "data": {
            "text/plain": [
              "<Figure size 640x480 with 1 Axes>"
            ],
            "image/png": "[encoded data removed]"
          },
          "metadata": {}
        }
      ]
    },
    {
      "cell_type": "markdown",
      "source": [
        "# Report\n",
        "\n",
        "Answer the following questions.\n",
        "\n",
        "1.   Why do we need to compute the covariance matrix in order to get the eigenvalues and eigenvectors?\n",
        "2.   What do you think the eigenvector images capture? And the eigenvalues?\n",
        "3.  Does the pixelwise mean and variance have any informative value about the dataset? In which other way can you compute the mean and variance of the dataset that would provide some characterization of the dataset?\n",
        "4.   Conclude with some thoughts and things you learned from this homework.\n"
      ],
      "metadata": {
        "id": "G5HRDkD8WJLp"
      }
    },
    {
      "cell_type": "markdown",
      "source": [
        "1. Covarience matrix is the matrix that represent the relation btween data so that it can show how much the data are corelated. The eigen vector of largest eigen value is the vector that shows largest varience in the data. So that it can be used for data projection and other computation. If it's not from covarience matrix, the eigen vector cannot represent the data's major patterns.\n",
        "\n",
        "2. The eigenvector images capture the major pattern of data. The eigenvalues captures the size of the eigenvector which can be seen as the varience size of the data for the pattern.\n",
        "\n",
        "3. Pixelwise mean shows mean value of cirtain pixel from whole images, and variance shows the variance of cirtain pixel from whole images. One other way to compute mean and variance might be pixelwise plus labelwise. Compute pixelwise mean and varience but only data with same label. It can show the significance of each label data.\n",
        "\n",
        "4. I learned what is varience and the relation between covarience and eigen vectors, and complexity of data analysis, and the meaning of visualization of each concept."
      ],
      "metadata": {
        "id": "hekukxfuiANa"
      }
    }
  ]
}